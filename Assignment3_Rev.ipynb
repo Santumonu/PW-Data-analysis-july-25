{
  "nbformat": 4,
  "nbformat_minor": 0,
  "metadata": {
    "colab": {
      "provenance": [],
      "include_colab_link": true
    },
    "kernelspec": {
      "name": "python3",
      "display_name": "Python 3"
    },
    "language_info": {
      "name": "python"
    }
  },
  "cells": [
    {
      "cell_type": "markdown",
      "metadata": {
        "id": "view-in-github",
        "colab_type": "text"
      },
      "source": [
        "<a href=\"https://colab.research.google.com/github/Santumonu/PW-Data-analysis-july-25/blob/main/Assignment3_Rev.ipynb\" target=\"_parent\"><img src=\"https://colab.research.google.com/assets/colab-badge.svg\" alt=\"Open In Colab\"/></a>"
      ]
    },
    {
      "cell_type": "markdown",
      "source": [
        "Theory Questions"
      ],
      "metadata": {
        "id": "GT-OjaVHgk0l"
      }
    },
    {
      "cell_type": "markdown",
      "source": [
        "Q1.What is the difference between a function and a\n",
        "method in Python?"
      ],
      "metadata": {
        "id": "y1vfAP-tQ0S_"
      }
    },
    {
      "cell_type": "markdown",
      "source": [
        "**Explanation**\n",
        "| Feature        | Function                          | Method                            |\n",
        "| -------------- | --------------------------------- | --------------------------------- |\n",
        "| Belongs to     | Independent (not tied to objects) | Belongs to an object/class        |\n",
        "| First argument | Regular parameters                | First parameter is usually `self` |\n",
        "| Call style     | `function_name(args)`             | `object.method_name(args)`        |\n",
        "| Defined in     | At module level (outside class)   | Inside a class                    |\n"
      ],
      "metadata": {
        "id": "HEzB3YsERIme"
      }
    },
    {
      "cell_type": "code",
      "source": [
        "#Function Example\n",
        "def greet(name):\n",
        "    return f\"Hello, {name}!\"\n",
        "\n",
        "print(greet(\"Santu\"))  # Function call → Output: Hello, Santu!\n"
      ],
      "metadata": {
        "colab": {
          "base_uri": "https://localhost:8080/"
        },
        "id": "yFU0tcp0R4_D",
        "outputId": "ee7a22dd-1790-4a1f-d4d3-a9a1edf82f2b"
      },
      "execution_count": null,
      "outputs": [
        {
          "output_type": "stream",
          "name": "stdout",
          "text": [
            "Hello, Santu!\n"
          ]
        }
      ]
    },
    {
      "cell_type": "code",
      "source": [
        "# Method Example\n",
        "class Greeter:\n",
        "    def greet(self, name):  # 'self' refers to the instance\n",
        "        return f\"Hello, {name}!\"\n",
        "\n",
        "g = Greeter()\n",
        "print(g.greet(\"Santu\"))  # Method call → Output: Hello, Santu!\n"
      ],
      "metadata": {
        "colab": {
          "base_uri": "https://localhost:8080/"
        },
        "id": "GQih1jMeSRYr",
        "outputId": "ead29973-d5e5-4382-9333-27c6ee6b2166"
      },
      "execution_count": null,
      "outputs": [
        {
          "output_type": "stream",
          "name": "stdout",
          "text": [
            "Hello, Santu!\n"
          ]
        }
      ]
    },
    {
      "cell_type": "markdown",
      "source": [
        "Q2.  Explain the concept of function arguments and\n",
        "parameters in Python.\n"
      ],
      "metadata": {
        "id": "BbhG7_v0TpuK"
      }
    },
    {
      "cell_type": "markdown",
      "source": [
        "**Concept of Function Arguments and Parameters in Python**\n",
        "\n",
        "Parameters are variables listed inside the parentheses in the function definition. They act as placeholders for the values the function will receive.\n",
        "\n",
        "Arguments are the actual values you provide when calling the function. These values get assigned to the parameters.\n",
        "\n",
        "\n",
        "**Python allows different ways of passing arguments:**\n",
        "\n",
        "1. Positional Arguments – values matched by order.\n",
        "\n",
        "2. Keyword Arguments – values matched by name.\n",
        "\n",
        "3. Default Arguments – parameters can have default values.\n",
        "\n",
        "4. Variable-Length Arguments – using *args (many positional) and **kwargs (many keyword)."
      ],
      "metadata": {
        "id": "21R1xx7VWnQ9"
      }
    },
    {
      "cell_type": "code",
      "source": [
        "#Parameters vs. Arguments\n",
        "def greet(name):   # 'name' is a parameter\n",
        "    print(f\"Hello, {name}!\")\n",
        "\n",
        "greet(\"Santu\")     # \"Santu\" is an argument\n"
      ],
      "metadata": {
        "colab": {
          "base_uri": "https://localhost:8080/"
        },
        "id": "V_Vde8jRXI3k",
        "outputId": "06e07d99-dc16-40b4-f467-abbea8604cc5"
      },
      "execution_count": null,
      "outputs": [
        {
          "output_type": "stream",
          "name": "stdout",
          "text": [
            "Hello, Santu!\n"
          ]
        }
      ]
    },
    {
      "cell_type": "code",
      "source": [
        "#Positional Arguments\n",
        "\n",
        "def add(a, b):\n",
        "    return a + b\n",
        "\n",
        "print(add(3, 5))  # Output: 8"
      ],
      "metadata": {
        "colab": {
          "base_uri": "https://localhost:8080/"
        },
        "id": "r3PgShN6XgHt",
        "outputId": "2fbcfd56-37ba-4d2d-a7d9-6440f79ad621"
      },
      "execution_count": null,
      "outputs": [
        {
          "output_type": "stream",
          "name": "stdout",
          "text": [
            "8\n"
          ]
        }
      ]
    },
    {
      "cell_type": "code",
      "source": [
        "#Keyword Arguments\n",
        "print(add(b=10, a=2))  # Output: 12\n"
      ],
      "metadata": {
        "colab": {
          "base_uri": "https://localhost:8080/"
        },
        "id": "bV5iap_FXm0y",
        "outputId": "f35015e9-883e-4523-d11d-7b5a11b18e88"
      },
      "execution_count": null,
      "outputs": [
        {
          "output_type": "stream",
          "name": "stdout",
          "text": [
            "12\n"
          ]
        }
      ]
    },
    {
      "cell_type": "code",
      "source": [
        "#Default Arguments\n",
        "\n",
        "def greet(name=\"Santu\"):\n",
        "    print(f\"Hello, {name}!\")\n",
        "\n",
        "greet()        # Output: Hello, Guest!\n",
        "greet(\"Avi\")   # Output: Hello, Bob!\n"
      ],
      "metadata": {
        "colab": {
          "base_uri": "https://localhost:8080/"
        },
        "id": "7vvS5eQPXt6N",
        "outputId": "fa7a7871-ff54-46b0-f38b-90e4b80ab637"
      },
      "execution_count": null,
      "outputs": [
        {
          "output_type": "stream",
          "name": "stdout",
          "text": [
            "Hello, Santu!\n",
            "Hello, Avi!\n"
          ]
        }
      ]
    },
    {
      "cell_type": "markdown",
      "source": [
        "Q3. Different ways to define and call a function in\n",
        "Python?"
      ],
      "metadata": {
        "id": "E_GHGjtEX7Ed"
      }
    },
    {
      "cell_type": "markdown",
      "source": [
        "**Different Ways to Define and Call a Function in Python**\n",
        "\n",
        "1.Standard Function\n",
        "\n",
        "* Defined with the def keyword.\n",
        "\n",
        "* Called by writing the function name followed by parentheses.\n",
        "\n",
        "2.Function with Default Parameters\n",
        "\n",
        "* Parameters can have default values.\n",
        "\n",
        "* If no argument is provided, the default value is used.\n",
        "\n",
        "3.Function with Variable-Length Arguments\n",
        "\n",
        "* *args → allows multiple positional arguments (stored as a tuple).\n",
        "\n",
        "* **kwargs → allows multiple keyword arguments (stored as a dictionary).\n",
        "\n",
        "4.Lambda (Anonymous) Function\n",
        "\n",
        "* Defined using the lambda keyword.\n",
        "\n",
        "* Used for small, one-line operations.\n",
        "\n",
        " 5.Nested Function\n",
        "\n",
        "* A function defined inside another function.\n",
        "\n",
        "* Inner function is usually accessible only within the outer function.\n",
        "\n",
        "6.Function as an Argument (Higher-Order Function)\n",
        "\n",
        "* Functions can be passed as arguments to other functions.\n",
        "\n",
        "7.Recursive Function\n",
        "\n",
        "* A function that calls itself.\n",
        "\n",
        "* Often used to solve problems that can be broken into smaller subproblems (e.g., factorial, Fibonacci)."
      ],
      "metadata": {
        "id": "N0MKfFgyYDde"
      }
    },
    {
      "cell_type": "code",
      "source": [
        "#1. Standard Function\n",
        "def greet(name):\n",
        "    return f\"Hello, {name}!\"\n",
        "\n",
        "print(greet(\"Santu\"))\n"
      ],
      "metadata": {
        "colab": {
          "base_uri": "https://localhost:8080/"
        },
        "id": "bmvTw4O6Zqxu",
        "outputId": "8a571603-0efa-445d-8377-b471708a160b"
      },
      "execution_count": null,
      "outputs": [
        {
          "output_type": "stream",
          "name": "stdout",
          "text": [
            "Hello, Santu!\n"
          ]
        }
      ]
    },
    {
      "cell_type": "code",
      "source": [
        "#2. Function with Default Parameters\n",
        "def greet(name=\"Santu\"):\n",
        "    return f\"Hello, {name}!\"\n",
        "\n",
        "print(greet())\n",
        "print(greet(\"Avi\"))\n"
      ],
      "metadata": {
        "colab": {
          "base_uri": "https://localhost:8080/"
        },
        "id": "eXgpSiiLZ06Z",
        "outputId": "0ee84e1f-4e05-4210-9a4d-afaaeb0799b0"
      },
      "execution_count": null,
      "outputs": [
        {
          "output_type": "stream",
          "name": "stdout",
          "text": [
            "Hello, Santu!\n",
            "Hello, Avi!\n"
          ]
        }
      ]
    },
    {
      "cell_type": "code",
      "source": [
        "#3. Function with Variable-Length Arguments\n",
        "def show_info(*args, **kwargs):\n",
        "    print(\"Positional args:\", args)\n",
        "    print(\"Keyword args:\", kwargs)\n",
        "\n",
        "show_info(1, 2, 3, name=\"Santu\", age=31)"
      ],
      "metadata": {
        "colab": {
          "base_uri": "https://localhost:8080/"
        },
        "id": "PFaNarSXaBER",
        "outputId": "8a5003b2-df11-49b2-e5b0-42d5036edcdd"
      },
      "execution_count": null,
      "outputs": [
        {
          "output_type": "stream",
          "name": "stdout",
          "text": [
            "Positional args: (1, 2, 3)\n",
            "Keyword args: {'name': 'Santu', 'age': 31}\n"
          ]
        }
      ]
    },
    {
      "cell_type": "code",
      "source": [
        "#4. Lambda (Anonymous) Function\n",
        "square = lambda x: x * x\n",
        "print(square(5))"
      ],
      "metadata": {
        "colab": {
          "base_uri": "https://localhost:8080/"
        },
        "id": "vl7haFjEaIhT",
        "outputId": "9cec1f8e-2e16-42a4-df2c-8b3c04b7fb70"
      },
      "execution_count": null,
      "outputs": [
        {
          "output_type": "stream",
          "name": "stdout",
          "text": [
            "25\n"
          ]
        }
      ]
    },
    {
      "cell_type": "code",
      "source": [
        "#5. Nested Function\n",
        "def outer():\n",
        "    def inner():\n",
        "        return \"I am inner!\"\n",
        "    return inner()\n",
        "\n",
        "print(outer())\n"
      ],
      "metadata": {
        "colab": {
          "base_uri": "https://localhost:8080/"
        },
        "id": "DLbJgRH_aQSF",
        "outputId": "f8968a30-cc90-4689-ed45-638e6306fa32"
      },
      "execution_count": null,
      "outputs": [
        {
          "output_type": "stream",
          "name": "stdout",
          "text": [
            "I am inner!\n"
          ]
        }
      ]
    },
    {
      "cell_type": "code",
      "source": [
        "#6. Function as an Argument\n",
        "def shout(text):\n",
        "    return text.upper()\n",
        "\n",
        "def speak(func, message):\n",
        "    return func(message)\n",
        "\n",
        "print(speak(shout, \"hello\"))\n"
      ],
      "metadata": {
        "colab": {
          "base_uri": "https://localhost:8080/"
        },
        "id": "R1uA_E77aYwj",
        "outputId": "43937e0c-d764-4137-9615-c84a79ea726d"
      },
      "execution_count": null,
      "outputs": [
        {
          "output_type": "stream",
          "name": "stdout",
          "text": [
            "HELLO\n"
          ]
        }
      ]
    },
    {
      "cell_type": "code",
      "source": [
        "# 7. Recursive Function\n",
        "def factorial(n):\n",
        "    if n == 0:\n",
        "        return 1\n",
        "    return n * factorial(n-1)\n",
        "\n",
        "print(factorial(5))\n"
      ],
      "metadata": {
        "colab": {
          "base_uri": "https://localhost:8080/"
        },
        "id": "cZa98nhCakFD",
        "outputId": "dd48c6a9-5704-424c-9c10-19ffa1b5e8fb"
      },
      "execution_count": null,
      "outputs": [
        {
          "output_type": "stream",
          "name": "stdout",
          "text": [
            "120\n"
          ]
        }
      ]
    },
    {
      "cell_type": "markdown",
      "source": [
        "Q4. What is the purpose of the return statement in a\n",
        "Python function?\n",
        "\n"
      ],
      "metadata": {
        "id": "UV4Dfu08a6KR"
      }
    },
    {
      "cell_type": "markdown",
      "source": [
        "**Purpose of the return Statement in a Python Function**\n",
        "\n",
        "* The return statement in Python is used to send a value back from a function to the caller.\n",
        "\n",
        "* When a function executes a return statement:\n",
        "\n",
        "1. It ends the function execution immediately.\n",
        "\n",
        "2. It provides a result (value, object, or expression) back to the part of the program that called the function.\n",
        "\n",
        "* A function without return (or with just return and no value) returns None by default.\n",
        "\n",
        "* Multiple values can also be returned as a tuple."
      ],
      "metadata": {
        "id": "SqXc3PZ0a8n-"
      }
    },
    {
      "cell_type": "code",
      "source": [
        "#1. Returning a Single Value\n",
        "def add(a, b):\n",
        "    return a + b\n",
        "\n",
        "result = add(3, 5)\n",
        "print(result)  # Output: 8\n"
      ],
      "metadata": {
        "colab": {
          "base_uri": "https://localhost:8080/"
        },
        "id": "u0xVM0EabWjv",
        "outputId": "97367078-287e-41cf-cb74-afd6091d8b87"
      },
      "execution_count": null,
      "outputs": [
        {
          "output_type": "stream",
          "name": "stdout",
          "text": [
            "8\n"
          ]
        }
      ]
    },
    {
      "cell_type": "code",
      "source": [
        "#2. Function Without Return\n",
        "def greet(name):\n",
        "    print(f\"Hello, {name}!\")\n",
        "\n",
        "output = greet(\"Santu\")\n",
        "print(output)  # Output: None (since no return)\n"
      ],
      "metadata": {
        "colab": {
          "base_uri": "https://localhost:8080/"
        },
        "id": "E_NLYGrEbcXc",
        "outputId": "9bfee75b-9f5a-42ec-a973-28d452bd4c2e"
      },
      "execution_count": null,
      "outputs": [
        {
          "output_type": "stream",
          "name": "stdout",
          "text": [
            "Hello, Santu!\n",
            "None\n"
          ]
        }
      ]
    },
    {
      "cell_type": "code",
      "source": [
        "#3. Returning Multiple Values\n",
        "def calculate(a, b):\n",
        "    return a + b, a - b, a * b\n",
        "\n",
        "result = calculate(10, 5)\n",
        "print(result)        # Output: (15, 5, 50)\n",
        "print(type(result))  # Output: <class 'tuple'>\n"
      ],
      "metadata": {
        "colab": {
          "base_uri": "https://localhost:8080/"
        },
        "id": "gI3SOY85bg9U",
        "outputId": "10274e96-16ce-4165-8a2e-f0d546dcc9b8"
      },
      "execution_count": null,
      "outputs": [
        {
          "output_type": "stream",
          "name": "stdout",
          "text": [
            "(15, 5, 50)\n",
            "<class 'tuple'>\n"
          ]
        }
      ]
    },
    {
      "cell_type": "code",
      "source": [
        "#4. Early Exit with Return\n",
        "def check_number(num):\n",
        "    if num < 0:\n",
        "        return \"Negative\"\n",
        "    return \"Positive or Zero\"\n",
        "\n",
        "print(check_number(-3))  # Output: Negative\n",
        "print(check_number(7))   # Output: Positive or Zero\n"
      ],
      "metadata": {
        "colab": {
          "base_uri": "https://localhost:8080/"
        },
        "id": "ihsgCnEjboYp",
        "outputId": "faab53ec-22ff-4d86-8d6c-8bbbe15b5bfd"
      },
      "execution_count": null,
      "outputs": [
        {
          "output_type": "stream",
          "name": "stdout",
          "text": [
            "Negative\n",
            "Positive or Zero\n"
          ]
        }
      ]
    },
    {
      "cell_type": "markdown",
      "source": [
        "Q5. What are iterators in Python and how do they differ\n",
        "from iterables?"
      ],
      "metadata": {
        "id": "j83_ie6Vb1fu"
      }
    },
    {
      "cell_type": "markdown",
      "source": [
        "* An iterator is an object in Python that allows you to traverse through elements one at a time."
      ],
      "metadata": {
        "id": "K4RQe9O_ci30"
      }
    },
    {
      "cell_type": "markdown",
      "source": [
        "**Differences**\n",
        "| Feature        | Iterable                              | Iterator                                     |\n",
        "| -------------- | ------------------------------------- | -------------------------------------------- |\n",
        "| Definition     | An object that can return an iterator | An object that produces values one at a time |\n",
        "| Examples       | list, tuple, str, set, dict           | Objects from `iter()` like `<list_iterator>` |\n",
        "| How to use     | Can be looped using `for`             | Used with `next()` until exhausted           |\n",
        "| State tracking | Does not remember position            | Remembers current position                   |\n"
      ],
      "metadata": {
        "id": "NYHFwdw5b84F"
      }
    },
    {
      "cell_type": "code",
      "source": [
        "# A list is an iterable\n",
        "numbers = [1, 2, 3]\n",
        "\n",
        "for n in numbers:  # Works because list is iterable\n",
        "    print(n)\n"
      ],
      "metadata": {
        "colab": {
          "base_uri": "https://localhost:8080/"
        },
        "id": "EoSGFRf1cQd-",
        "outputId": "44257153-259a-4464-f3d6-cb9383a63652"
      },
      "execution_count": null,
      "outputs": [
        {
          "output_type": "stream",
          "name": "stdout",
          "text": [
            "1\n",
            "2\n",
            "3\n"
          ]
        }
      ]
    },
    {
      "cell_type": "code",
      "source": [
        "# Converting iterable (list) to iterator\n",
        "numbers = [1, 2, 3]\n",
        "iterator = iter(numbers)\n",
        "\n",
        "print(next(iterator))  # Output: 1\n",
        "print(next(iterator))  # Output: 2\n",
        "print(next(iterator))  # Output: 3\n",
        "\n"
      ],
      "metadata": {
        "colab": {
          "base_uri": "https://localhost:8080/"
        },
        "id": "s8v_dblFcWj7",
        "outputId": "4108fee3-0338-432a-8d6c-9553fe60d17d"
      },
      "execution_count": null,
      "outputs": [
        {
          "output_type": "stream",
          "name": "stdout",
          "text": [
            "1\n",
            "2\n",
            "3\n"
          ]
        }
      ]
    },
    {
      "cell_type": "markdown",
      "source": [
        "Q6. Explain the concept of generators in Python and how\n",
        "they are defined."
      ],
      "metadata": {
        "id": "JBO6FO2Tco3r"
      }
    },
    {
      "cell_type": "markdown",
      "source": [
        "**Generators in Python**\n",
        "\n",
        "*  **What are Generators?**\n",
        "\n",
        "* A generator is a special type of iterator in Python.\n",
        "\n",
        "* It allows you to generate values on the fly instead of storing them all in memory.\n",
        "\n",
        "* Generators are memory-efficient because they produce items one at a time, only when needed (lazy evaluation)."
      ],
      "metadata": {
        "id": "Smo7olb-c0U4"
      }
    },
    {
      "cell_type": "markdown",
      "source": [
        "**How are Generators Defined?**\n",
        "\n",
        "Generators can be created in two ways:\n",
        "\n",
        "1.Generator Function\n",
        "\n",
        "* Defined like a normal function using def.\n",
        "\n",
        "* Instead of return, it uses the yield keyword to produce values one by one.\n",
        "\n",
        "* Each time yield is called, the function “pauses” and resumes from that point when called again.\n",
        "\n",
        "2.Generator Expression\n",
        "\n",
        "* Similar to list comprehensions, but with parentheses () instead of square brackets [].\n",
        "\n",
        "* More concise and memory-efficient than creating full lists."
      ],
      "metadata": {
        "id": "6GtdxsTzdQrQ"
      }
    },
    {
      "cell_type": "code",
      "source": [
        "#Generator Function with yield\n",
        "def count_up_to(n):\n",
        "    count = 1\n",
        "    while count <= n:\n",
        "        yield count\n",
        "        count += 1\n",
        "\n",
        "# Using the generator\n",
        "for number in count_up_to(5):\n",
        "    print(number)   # Output: 1, 2, 3, 4, 5\n"
      ],
      "metadata": {
        "colab": {
          "base_uri": "https://localhost:8080/"
        },
        "id": "C8DIHxJ-dppP",
        "outputId": "697f4f6f-3ad3-4b35-9d18-3c5451caca3c"
      },
      "execution_count": null,
      "outputs": [
        {
          "output_type": "stream",
          "name": "stdout",
          "text": [
            "1\n",
            "2\n",
            "3\n",
            "4\n",
            "5\n"
          ]
        }
      ]
    },
    {
      "cell_type": "code",
      "source": [
        "#2. Using next() with a Generator\n",
        "gen = count_up_to(3)\n",
        "print(next(gen))  # Output: 1\n",
        "print(next(gen))  # Output: 2\n",
        "print(next(gen))  # Output: 3\n",
        "# print(next(gen))  # Raises StopIteration\n"
      ],
      "metadata": {
        "colab": {
          "base_uri": "https://localhost:8080/"
        },
        "id": "ZCp_HUY1dy8e",
        "outputId": "7ce2eca1-6763-4958-b241-0fa61a2d5040"
      },
      "execution_count": null,
      "outputs": [
        {
          "output_type": "stream",
          "name": "stdout",
          "text": [
            "1\n",
            "2\n",
            "3\n"
          ]
        }
      ]
    },
    {
      "cell_type": "code",
      "source": [
        "#3. Generator Expression\n",
        "squares = (x*x for x in range(5))\n",
        "for val in squares:\n",
        "    print(val)   # Output: 0, 1, 4, 9, 16\n"
      ],
      "metadata": {
        "colab": {
          "base_uri": "https://localhost:8080/"
        },
        "id": "t1QMZTMQd9EG",
        "outputId": "45a03473-9d75-4a70-b110-542287c7d425"
      },
      "execution_count": null,
      "outputs": [
        {
          "output_type": "stream",
          "name": "stdout",
          "text": [
            "0\n",
            "1\n",
            "4\n",
            "9\n",
            "16\n"
          ]
        }
      ]
    },
    {
      "cell_type": "markdown",
      "source": [
        "Q7. What are the advantages of using generators over\n",
        "regular functions?\n"
      ],
      "metadata": {
        "id": "twSopvtleHBw"
      }
    },
    {
      "cell_type": "markdown",
      "source": [
        "**Advantages of Using Generators over Regular Functions**\n",
        "\n",
        "1.Memory Efficiency\n",
        "\n",
        "* Regular functions that return lists store all values in memory at once.\n",
        "\n",
        "2.Lazy Evaluation\n",
        "\n",
        "* Generators compute values only when needed.\n",
        "\n",
        "3.Improved Performance\n",
        "* Since generators don’t generate all values upfront, they are often faster for iteration compared to functions returning big lists.\n",
        "\n",
        "4.Infinite Sequences\n",
        "\n",
        "* Generators can model infinite streams of data because they produce values on demand.\n",
        "\n",
        "5.Cleaner Code\n",
        "* Generators with yield make code more readable compared to manually writing classes with __iter__() and __next__()."
      ],
      "metadata": {
        "id": "aiD-4xDDeMBf"
      }
    },
    {
      "cell_type": "code",
      "source": [
        "#1. Regular Function Returning a List (Memory Heavy)\n",
        "def get_squares_list(n):\n",
        "    return [x*x for x in range(n)]\n",
        "\n",
        "squares = get_squares_list(1000000)  # Creates a big list in memory\n",
        "print(len(squares))  # Output: 1000000\n"
      ],
      "metadata": {
        "colab": {
          "base_uri": "https://localhost:8080/"
        },
        "id": "R-U_ox9-e64i",
        "outputId": "43a02617-e6d0-4694-dfc4-a68bafc35e85"
      },
      "execution_count": null,
      "outputs": [
        {
          "output_type": "stream",
          "name": "stdout",
          "text": [
            "1000000\n"
          ]
        }
      ]
    },
    {
      "cell_type": "code",
      "source": [
        "#2. Generator Function (Memory Efficient)\n",
        "def get_squares_gen(n):\n",
        "    for x in range(n):\n",
        "        yield x*x\n",
        "\n",
        "squares = get_squares_gen(1000000)\n",
        "print(next(squares))  # Output: 0\n",
        "print(next(squares))  # Output: 1\n",
        "print(next(squares))  # Output: 4\n"
      ],
      "metadata": {
        "colab": {
          "base_uri": "https://localhost:8080/"
        },
        "id": "leoEsKXLfBS_",
        "outputId": "d98a5837-2e58-4bc9-f487-43a2f3a2dd48"
      },
      "execution_count": null,
      "outputs": [
        {
          "output_type": "stream",
          "name": "stdout",
          "text": [
            "0\n",
            "1\n",
            "4\n"
          ]
        }
      ]
    },
    {
      "cell_type": "code",
      "source": [
        "#3. Infinite Sequence with Generator\n",
        "def infinite_numbers():\n",
        "    num = 1\n",
        "    while True:\n",
        "        yield num\n",
        "        num += 1\n",
        "\n",
        "gen = infinite_numbers()\n",
        "print(next(gen))  # 1\n",
        "print(next(gen))  # 2\n",
        "print(next(gen))  # 3\n",
        "# (and so on, without memory issues)\n"
      ],
      "metadata": {
        "colab": {
          "base_uri": "https://localhost:8080/"
        },
        "id": "fzKlF-Z2fJgf",
        "outputId": "56be11dd-1f0d-42d3-9e54-4a02ee986f94"
      },
      "execution_count": null,
      "outputs": [
        {
          "output_type": "stream",
          "name": "stdout",
          "text": [
            "1\n",
            "2\n",
            "3\n"
          ]
        }
      ]
    },
    {
      "cell_type": "markdown",
      "source": [
        "Q8. What is a lambda function in Python and when is it\n",
        "typically used?\n"
      ],
      "metadata": {
        "id": "bXaPck7Kg0UY"
      }
    },
    {
      "cell_type": "markdown",
      "source": [
        "**Lambda Function in Python**\n",
        "\n",
        "**What is a Lambda Function?**\n",
        "\n",
        "* A lambda function is a small, anonymous (unnamed) function in Python.\n",
        "\n",
        "* It is defined using the lambda keyword instead of def.\n",
        "\n"
      ],
      "metadata": {
        "id": "x_LhtyT7g2VE"
      }
    },
    {
      "cell_type": "markdown",
      "source": [
        "**When is a Lambda Function Typically Used?**\n",
        "\n",
        "Lambda functions are usually used when:\n",
        "\n",
        "1. A function is short and simple (e.g., mathematical operations).\n",
        "\n",
        "2. You don’t want to formally define a function using def."
      ],
      "metadata": {
        "id": "ZEzvBAPFho_E"
      }
    },
    {
      "cell_type": "code",
      "source": [
        "#1. Basic Lambda\n",
        "square = lambda x: x * x\n",
        "print(square(5))   # 25\n"
      ],
      "metadata": {
        "colab": {
          "base_uri": "https://localhost:8080/"
        },
        "id": "wnl6FzXmiTqI",
        "outputId": "991ebdcf-a556-4e70-d96c-64142e98518b"
      },
      "execution_count": null,
      "outputs": [
        {
          "output_type": "stream",
          "name": "stdout",
          "text": [
            "25\n"
          ]
        }
      ]
    },
    {
      "cell_type": "code",
      "source": [
        "#2. With map()\n",
        "nums = [1, 2, 3]\n",
        "print(list(map(lambda x: x*x, nums)))  # [1, 4, 9]\n"
      ],
      "metadata": {
        "colab": {
          "base_uri": "https://localhost:8080/"
        },
        "id": "XOa5fqZMiXWG",
        "outputId": "077ae1f4-f76d-461b-8d29-9d4e51a76a22"
      },
      "execution_count": null,
      "outputs": [
        {
          "output_type": "stream",
          "name": "stdout",
          "text": [
            "[1, 4, 9]\n"
          ]
        }
      ]
    },
    {
      "cell_type": "code",
      "source": [
        "#3. With filter()\n",
        "nums = [10, 15, 20]\n",
        "print(list(filter(lambda x: x % 2 == 0, nums)))  # [10, 20]\n"
      ],
      "metadata": {
        "colab": {
          "base_uri": "https://localhost:8080/"
        },
        "id": "jHcXEMxjictC",
        "outputId": "7bba573f-bd44-464a-99d5-d044f301bf37"
      },
      "execution_count": null,
      "outputs": [
        {
          "output_type": "stream",
          "name": "stdout",
          "text": [
            "[10, 20]\n"
          ]
        }
      ]
    },
    {
      "cell_type": "markdown",
      "source": [
        "Q9. Explain the purpose and usage of the map() function\n",
        "in Python.\n"
      ],
      "metadata": {
        "id": "u0kU7Ngoij2d"
      }
    },
    {
      "cell_type": "markdown",
      "source": [
        "**map() Function in Python**\n",
        "\n",
        " Purpose\n",
        "\n",
        "* The map() function in Python is used to apply a function to each item in an iterable (like a list, tuple, or string).\n",
        "\n",
        "* It returns a map object (which is an iterator), so we usually convert it into a list or tuple to see the results.\n",
        "\n"
      ],
      "metadata": {
        "id": "I3TQYYEfjJWa"
      }
    },
    {
      "cell_type": "code",
      "source": [
        "#1. Using map() with a Built-in Function\n",
        "nums = [1, 2, 3, 4]\n",
        "result = map(str, nums)   # Convert each number to string\n",
        "print(list(result))       # ['1', '2', '3', '4']\n"
      ],
      "metadata": {
        "colab": {
          "base_uri": "https://localhost:8080/"
        },
        "id": "6c6go6DOjgKZ",
        "outputId": "0bde2571-277c-4630-c571-8a544759f9f2"
      },
      "execution_count": null,
      "outputs": [
        {
          "output_type": "stream",
          "name": "stdout",
          "text": [
            "['1', '2', '3', '4']\n"
          ]
        }
      ]
    },
    {
      "cell_type": "code",
      "source": [
        "#2. Using map() with a User-defined Function\n",
        "def square(x):\n",
        "    return x * x\n",
        "\n",
        "nums = [1, 2, 3]\n",
        "print(list(map(square, nums)))  # [1, 4, 9]\n"
      ],
      "metadata": {
        "colab": {
          "base_uri": "https://localhost:8080/"
        },
        "id": "Rt6EvQyijmzg",
        "outputId": "f18c799f-f3bd-42f5-d5d7-08a656da1abd"
      },
      "execution_count": null,
      "outputs": [
        {
          "output_type": "stream",
          "name": "stdout",
          "text": [
            "[1, 4, 9]\n"
          ]
        }
      ]
    },
    {
      "cell_type": "code",
      "source": [
        "#3. Using map() with Lambda\n",
        "nums = [2, 4, 6]\n",
        "print(list(map(lambda x: x + 1, nums)))  # [3, 5, 7]\n"
      ],
      "metadata": {
        "colab": {
          "base_uri": "https://localhost:8080/"
        },
        "id": "_nB_GKpQjtMu",
        "outputId": "45484ebc-24be-48a5-dd81-02f6a312aa05"
      },
      "execution_count": null,
      "outputs": [
        {
          "output_type": "stream",
          "name": "stdout",
          "text": [
            "[3, 5, 7]\n"
          ]
        }
      ]
    },
    {
      "cell_type": "markdown",
      "source": [
        "Q10. What is the difference between map(), reduce(),\n",
        "and filter() functions in Python?"
      ],
      "metadata": {
        "id": "Znf4knIUj2xa"
      }
    },
    {
      "cell_type": "markdown",
      "source": [
        "**Difference between map(), reduce(), and filter() in Python**\n",
        "\n",
        "1.map()\n",
        "\n",
        "* Purpose: Applies a function to each element of an iterable.\n",
        "\n",
        "* Returns: A map object (iterator) with transformed elements.\n",
        "\n",
        "* Usage: Data transformation.\n",
        "\n",
        "2.filter()\n",
        "\n",
        "* Purpose: Applies a function (that returns True/False) to each element.\n",
        "\n",
        "* Keeps only elements that return True.\n",
        "\n",
        "* Returns: A filter object (iterator).\n",
        "\n",
        "* Usage: Filtering data based on condition.\n",
        "\n",
        "3.reduce()\n",
        "\n",
        "* Purpose: Applies a function\n",
        "cumulatively to elements of an iterable, reducing it to a single value.\n",
        "\n",
        "* Comes from functools module.\n",
        "\n",
        "* Usage: Aggregation (e.g., sum, product, max).\n",
        "\n"
      ],
      "metadata": {
        "id": "pENRR0OVkENS"
      }
    },
    {
      "cell_type": "markdown",
      "source": [
        "**Comparison**\n",
        "| Function   | Operation Type         | Returns      | Example Use Case        |\n",
        "| ---------- | ---------------------- | ------------ | ----------------------- |\n",
        "| `map()`    | Transform each element | Iterator     | Square all numbers      |\n",
        "| `filter()` | Select elements        | Iterator     | Keep only even numbers  |\n",
        "| `reduce()` | Combine elements       | Single value | Find product of numbers |\n"
      ],
      "metadata": {
        "id": "GWWv23kekmtw"
      }
    },
    {
      "cell_type": "code",
      "source": [
        "#1. map() – Transformation\n",
        "nums = [1, 2, 3, 4]\n",
        "squares = map(lambda x: x*x, nums)\n",
        "print(list(squares))  # [1, 4, 9, 16]\n"
      ],
      "metadata": {
        "colab": {
          "base_uri": "https://localhost:8080/"
        },
        "id": "8NX6AYMokx4c",
        "outputId": "0c4b7909-b763-4118-e7f2-0a5c8b00be05"
      },
      "execution_count": null,
      "outputs": [
        {
          "output_type": "stream",
          "name": "stdout",
          "text": [
            "[1, 4, 9, 16]\n"
          ]
        }
      ]
    },
    {
      "cell_type": "code",
      "source": [
        "#2. filter() – Selection\n",
        "nums = [1, 2, 3, 4, 5, 6]\n",
        "evens = filter(lambda x: x % 2 == 0, nums)\n",
        "print(list(evens))  # [2, 4, 6]\n"
      ],
      "metadata": {
        "colab": {
          "base_uri": "https://localhost:8080/"
        },
        "id": "05IcL91Bk2K-",
        "outputId": "d4dc763b-7366-4874-abb7-9da8f530d399"
      },
      "execution_count": null,
      "outputs": [
        {
          "output_type": "stream",
          "name": "stdout",
          "text": [
            "[2, 4, 6]\n"
          ]
        }
      ]
    },
    {
      "cell_type": "code",
      "source": [
        "#3. reduce() – Aggregation\n",
        "from functools import reduce\n",
        "\n",
        "nums = [1, 2, 3, 4]\n",
        "product = reduce(lambda x, y: x * y, nums)\n",
        "print(product)  # 24\n"
      ],
      "metadata": {
        "colab": {
          "base_uri": "https://localhost:8080/"
        },
        "id": "8p0EqL5fk8-1",
        "outputId": "2715753f-65d5-4325-d47d-d790c8dea2fe"
      },
      "execution_count": null,
      "outputs": [
        {
          "output_type": "stream",
          "name": "stdout",
          "text": [
            "24\n"
          ]
        }
      ]
    },
    {
      "cell_type": "markdown",
      "source": [
        " **In Short**\n",
        "\n",
        "* map() → transforms each element.\n",
        "\n",
        "* filter() → selects certain elements.\n",
        "\n",
        "* reduce() → reduces all elements into one value.\n",
        "\n"
      ],
      "metadata": {
        "id": "CsmMHTPLlLUm"
      }
    },
    {
      "cell_type": "markdown",
      "source": [
        "Q11. Using pen & Paper write the internal mechanism for\n",
        "sum operation using reduce function on this given list:\n",
        "[47,11,42,13]; (Attach paper image for this answer) in doc"
      ],
      "metadata": {
        "id": "ACRNV7I7lj_A"
      }
    },
    {
      "cell_type": "markdown",
      "source": [
        "![WhatsApp Image 2025-08-28 at 08.13.33_9121a787.jpg](data:image/jpeg;base64,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)"
      ],
      "metadata": {
        "id": "mStzL5jFl_2f"
      }
    },
    {
      "cell_type": "markdown",
      "source": [
        "Practical Questions"
      ],
      "metadata": {
        "id": "dPV3ibb7uFYv"
      }
    },
    {
      "cell_type": "markdown",
      "source": [
        "Q1. Write a Python function that takes a list of numbersas input and returns the sum of all even numbers in the list."
      ],
      "metadata": {
        "id": "UdejMd5-gl6n"
      }
    },
    {
      "cell_type": "markdown",
      "source": [],
      "metadata": {
        "id": "dtLLSFA9QzZT"
      }
    },
    {
      "cell_type": "code",
      "source": [
        "def sum_of_even(numbers):\n",
        "    return sum(num for num in numbers if num % 2 == 0)\n",
        "\n",
        "print(sum_of_even([1, 2, 3, 4, 5, 6]))"
      ],
      "metadata": {
        "colab": {
          "base_uri": "https://localhost:8080/"
        },
        "id": "dPLEIW_Ng302",
        "outputId": "ce897370-2dc7-467a-ddd2-ae52efb52a96"
      },
      "execution_count": null,
      "outputs": [
        {
          "output_type": "stream",
          "name": "stdout",
          "text": [
            "12\n"
          ]
        }
      ]
    },
    {
      "cell_type": "markdown",
      "source": [
        "Q2. Create a Python function that accepts a string andreturns the reverse of that string."
      ],
      "metadata": {
        "id": "gUsYbddMg7mz"
      }
    },
    {
      "cell_type": "code",
      "source": [
        "def reverse_string(s):\n",
        "    return s[::-1]\n",
        "\n",
        "print(reverse_string(\"Santu\"))"
      ],
      "metadata": {
        "colab": {
          "base_uri": "https://localhost:8080/"
        },
        "id": "ILK_iNMdhAA4",
        "outputId": "54d362e3-2043-4766-9424-0d8266828fd5"
      },
      "execution_count": null,
      "outputs": [
        {
          "output_type": "stream",
          "name": "stdout",
          "text": [
            "utnaS\n"
          ]
        }
      ]
    },
    {
      "cell_type": "markdown",
      "source": [
        "Q3. Implement a Python function that takes a list ofintegers and returns a new list containing the squares ofeach number."
      ],
      "metadata": {
        "id": "OUNhvX4IhPs5"
      }
    },
    {
      "cell_type": "code",
      "source": [
        "def square_list(numbers):\n",
        "    return [num**2 for num in numbers]\n",
        "\n",
        "print(square_list([2, 3, 4]))"
      ],
      "metadata": {
        "colab": {
          "base_uri": "https://localhost:8080/"
        },
        "id": "PY01PvbChSyS",
        "outputId": "b8c76990-273a-44b2-c2f6-a8b0ca252b4b"
      },
      "execution_count": null,
      "outputs": [
        {
          "output_type": "stream",
          "name": "stdout",
          "text": [
            "[4, 9, 16]\n"
          ]
        }
      ]
    },
    {
      "cell_type": "markdown",
      "source": [
        "Q4. Write a Python function that checks if a given\n",
        "number is prime or not from 1 to 200."
      ],
      "metadata": {
        "id": "2aF5-v98hf7x"
      }
    },
    {
      "cell_type": "code",
      "source": [
        "def is_prime(num):\n",
        "    if num < 2:\n",
        "        return False\n",
        "    for i in range(2, num):\n",
        "        if num % i == 0:\n",
        "            return False\n",
        "    return True\n",
        "\n",
        "for n in range(1, 201):\n",
        "    if is_prime(n):\n",
        "        print(n, end=\" \")"
      ],
      "metadata": {
        "colab": {
          "base_uri": "https://localhost:8080/"
        },
        "id": "lVLaL6JchogA",
        "outputId": "f8d2403b-eec6-4143-9bad-c3cf0db2c100"
      },
      "execution_count": null,
      "outputs": [
        {
          "output_type": "stream",
          "name": "stdout",
          "text": [
            "2 3 5 7 11 13 17 19 23 29 31 37 41 43 47 53 59 61 67 71 73 79 83 89 97 101 103 107 109 113 127 131 137 139 149 151 157 163 167 173 179 181 191 193 197 199 "
          ]
        }
      ]
    },
    {
      "cell_type": "markdown",
      "source": [
        "Q5. Create an iterator class in Python that generates the\n",
        "Fibonacci sequence up to a specified number of terms."
      ],
      "metadata": {
        "id": "V8F9wqGMiaKO"
      }
    },
    {
      "cell_type": "code",
      "source": [
        "class FibonacciIterator:\n",
        "    def __init__(self, n):\n",
        "        self.n = n\n",
        "        self.a, self.b = 0, 1\n",
        "        self.count = 0\n",
        "\n",
        "    def __iter__(self):\n",
        "        return self\n",
        "\n",
        "    def __next__(self):\n",
        "        if self.count >= self.n:\n",
        "            raise StopIteration\n",
        "        self.count += 1\n",
        "        value = self.a\n",
        "        self.a, self.b = self.b, self.a + self.b\n",
        "        return value\n",
        "\n",
        "fib = FibonacciIterator(10)\n",
        "for num in fib:\n",
        "    print(num, end=\" \")"
      ],
      "metadata": {
        "colab": {
          "base_uri": "https://localhost:8080/"
        },
        "id": "cGnPTeJVieiv",
        "outputId": "d208f1d2-8051-4bbe-ba70-50229cd3f1bc"
      },
      "execution_count": null,
      "outputs": [
        {
          "output_type": "stream",
          "name": "stdout",
          "text": [
            "0 1 1 2 3 5 8 13 21 34 "
          ]
        }
      ]
    },
    {
      "cell_type": "markdown",
      "source": [
        "Q6. Write a generator function in Python that yields thepowers of 2 up to a given exponent."
      ],
      "metadata": {
        "id": "dqczKBxpitoc"
      }
    },
    {
      "cell_type": "code",
      "source": [
        "def powers_of_two(n):\n",
        "    for i in range(n+1):\n",
        "        yield 2**i\n",
        "\n",
        "for val in powers_of_two(5):\n",
        "    print(val, end=\" \")"
      ],
      "metadata": {
        "colab": {
          "base_uri": "https://localhost:8080/"
        },
        "id": "n4TMNd6ni1y5",
        "outputId": "cfa0f139-a021-459a-c3ee-e7a4e491a253"
      },
      "execution_count": null,
      "outputs": [
        {
          "output_type": "stream",
          "name": "stdout",
          "text": [
            "1 2 4 8 16 32 "
          ]
        }
      ]
    },
    {
      "cell_type": "markdown",
      "source": [
        "Q7. Implement a generator function that reads a file lineby line and yields each line as a string."
      ],
      "metadata": {
        "id": "Hy9n-p12jA0M"
      }
    },
    {
      "cell_type": "code",
      "source": [
        "with open(\"example.txt\", \"w\") as f:\n",
        "    f.write(\"Hello\\n\")\n",
        "    f.write(\"Python\\n\")\n",
        "    f.write(\"World\\n\")\n",
        "\n",
        "def read_file_line_by_line(filename):\n",
        "    with open(filename, \"r\") as file:\n",
        "        for line in file:\n",
        "            yield line.strip()\n",
        "\n",
        "# Print each line\n",
        "for line in read_file_line_by_line(\"example.txt\"):\n",
        "    print(line)\n"
      ],
      "metadata": {
        "colab": {
          "base_uri": "https://localhost:8080/"
        },
        "id": "w4EHKyOylKg1",
        "outputId": "a626db27-f8b4-4e8c-d2b9-7e38b32ea9ab"
      },
      "execution_count": null,
      "outputs": [
        {
          "output_type": "stream",
          "name": "stdout",
          "text": [
            "Hello\n",
            "Python\n",
            "World\n"
          ]
        }
      ]
    },
    {
      "cell_type": "markdown",
      "source": [
        "Q8. Use a lambda function in Python to sort a list oftuples based on the second element of each tuplekeyboard_arrow_down"
      ],
      "metadata": {
        "id": "AFVmMKizmJsN"
      }
    },
    {
      "cell_type": "code",
      "source": [
        "data = [(1, 5), (3, 1), (2, 4), (4, 2)]\n",
        "sorted_data = sorted(data, key=lambda x: x[1])\n",
        "print(sorted_data)  # [(3, 1), (4, 2), (2, 4), (1, 5)]"
      ],
      "metadata": {
        "colab": {
          "base_uri": "https://localhost:8080/"
        },
        "id": "A8cgZMMkmPf3",
        "outputId": "2fc474b0-faef-4449-e6d8-ff253782370d"
      },
      "execution_count": null,
      "outputs": [
        {
          "output_type": "stream",
          "name": "stdout",
          "text": [
            "[(3, 1), (4, 2), (2, 4), (1, 5)]\n"
          ]
        }
      ]
    },
    {
      "cell_type": "markdown",
      "source": [
        "Q9.Write a Python program that uses map()to convert alist of temperatures from Celsius to Fahrenheit."
      ],
      "metadata": {
        "id": "ZCud0TdHmYqq"
      }
    },
    {
      "cell_type": "code",
      "source": [
        "celsius = [0, 20, 30, 40]\n",
        "fahrenheit = list(map(lambda c: (c * 9/5) + 32, celsius))\n",
        "print(fahrenheit)"
      ],
      "metadata": {
        "colab": {
          "base_uri": "https://localhost:8080/"
        },
        "id": "aD2Hc0WbmeS1",
        "outputId": "2e9fe8d4-fd6c-4b8f-8dcd-805027c43bde"
      },
      "execution_count": null,
      "outputs": [
        {
          "output_type": "stream",
          "name": "stdout",
          "text": [
            "[32.0, 68.0, 86.0, 104.0]\n"
          ]
        }
      ]
    },
    {
      "cell_type": "markdown",
      "source": [
        "Q10. Create a Python program that uses filter()to remove all the vowels from a given string"
      ],
      "metadata": {
        "id": "mnXuVqmbmpCb"
      }
    },
    {
      "cell_type": "code",
      "source": [
        "def remove_vowels(s):\n",
        "    return ''.join(filter(lambda ch: ch.lower() not in \"aeiou\", s))\n",
        "\n",
        "print(remove_vowels(\"HELLO WORLD\"))"
      ],
      "metadata": {
        "colab": {
          "base_uri": "https://localhost:8080/"
        },
        "id": "egsLvnP-m0nZ",
        "outputId": "dc1c39ad-9b83-4bf2-89a5-a5c87902e780"
      },
      "execution_count": null,
      "outputs": [
        {
          "output_type": "stream",
          "name": "stdout",
          "text": [
            "HLL WRLD\n"
          ]
        }
      ]
    },
    {
      "cell_type": "markdown",
      "source": [
        "Q11. Imagine an accounting routine used in a bookshop. It works on a list with sublists, which look like this:\n",
        "\n",
        "![image.png](data:image/png;base64,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)\n",
        "\n",
        "Write a Python program, which returns a list with 2-tuples. Each tupleconsists of the order number and the product of the price per item and thequantity. The product should be increased by 10,- € if the value of the order issmaller than 100,00 €.\n",
        "Write a Python program using lambda and map"
      ],
      "metadata": {
        "id": "on0vAxtPnYY8"
      }
    },
    {
      "cell_type": "code",
      "source": [
        "orders = [[34587, \"Learning Python\", 4, 40.95],[98762, \"Programming in C\", 5, 10.50]\n",
        "          ,[77226, \"Data Structures\", 3, 22.00],[88112, \"Machine Learning\", 3, 45.00]]\n",
        "\n",
        "invoice = list(map(lambda order:\n",
        " (order[0],order[2]*order[3]\n",
        "  if order[2]*order[3] >= 100\n",
        "else order[2]*order[3] + 10), orders))\n",
        "print(invoice)"
      ],
      "metadata": {
        "colab": {
          "base_uri": "https://localhost:8080/"
        },
        "id": "cHN8b1uKoAGw",
        "outputId": "364d2c99-0839-4aff-9e02-4d5422f82489"
      },
      "execution_count": null,
      "outputs": [
        {
          "output_type": "stream",
          "name": "stdout",
          "text": [
            "[(34587, 163.8), (98762, 62.5), (77226, 76.0), (88112, 135.0)]\n"
          ]
        }
      ]
    },
    {
      "cell_type": "markdown",
      "source": [
        "Colab Link:\n",
        "\n",
        "https://colab.research.google.com/drive/14ktVJcW6MIk4MDo6YofcqTu2O5-arkM1\n",
        "\n",
        "Git Hub Link:"
      ],
      "metadata": {
        "id": "uqVyNsFPuOOi"
      }
    }
  ]
}